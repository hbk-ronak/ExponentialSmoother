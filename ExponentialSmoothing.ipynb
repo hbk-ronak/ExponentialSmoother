{
 "cells": [
  {
   "cell_type": "code",
   "execution_count": 1,
   "metadata": {},
   "outputs": [],
   "source": [
    "import pandas as pd\n",
    "import numpy as np\n",
    "from barsampler import  barsampler as bs\n",
    "from ExponentialSmoother import ExponentialSmoother as es\n",
    "import matplotlib.pyplot as plt\n",
    "def get_log_return(df):\n",
    "    log_returns = pd.Series(np.log((df['Close'] - df['Open'])/df['Open'] + 1),name='log returns')\n",
    "    return pd.concat([df,log_returns], axis=1)"
   ]
  },
  {
   "cell_type": "code",
   "execution_count": 2,
   "metadata": {},
   "outputs": [],
   "source": [
    "# # Get the file name and preprocess the data for required stocks \n",
    "# # Store the tick data into csv file for future use\n",
    "\n",
    "# filepath = 'EQY_US_ALL_TRADE_20191008'\n",
    "# bs.prepare_data(filepath)\n",
    "# tdata = pd.read_csv(filepath+'.csv', delimiter='|')\n",
    "# AAPL = bs.get_ticks_symbols(tdata, 'AAPL')\n",
    "# AMZN = bs.get_ticks_symbols(tdata, 'AMZN')\n",
    "# MSFT = bs.get_ticks_symbols(tdata, 'MSFT')\n",
    "# AMZN.to_csv('AMZN.csv')\n",
    "\n",
    "# AAPL.to_csv('AAPL.csv')\n",
    "# MSFT.to_csv('MSFT.csv')"
   ]
  },
  {
   "cell_type": "code",
   "execution_count": 3,
   "metadata": {},
   "outputs": [],
   "source": [
    "# del tdata, AAPL, AMZN, MSFT"
   ]
  },
  {
   "cell_type": "markdown",
   "metadata": {},
   "source": [
    "#### Read Data from stock CSV files into Pandas Data Frame"
   ]
  },
  {
   "cell_type": "code",
   "execution_count": 4,
   "metadata": {},
   "outputs": [],
   "source": [
    "AMZNdf = pd.read_csv(\"./AMZN.csv\").iloc[:,1:]\n",
    "AAPLdf = pd.read_csv(\"./AAPL.csv\").iloc[:,1:]\n",
    "MSFTdf = pd.read_csv(\"./MSFT.csv\").iloc[:,1:]"
   ]
  },
  {
   "cell_type": "code",
   "execution_count": 5,
   "metadata": {},
   "outputs": [
    {
     "data": {
      "text/html": [
       "<div>\n",
       "<style scoped>\n",
       "    .dataframe tbody tr th:only-of-type {\n",
       "        vertical-align: middle;\n",
       "    }\n",
       "\n",
       "    .dataframe tbody tr th {\n",
       "        vertical-align: top;\n",
       "    }\n",
       "\n",
       "    .dataframe thead th {\n",
       "        text-align: right;\n",
       "    }\n",
       "</style>\n",
       "<table border=\"1\" class=\"dataframe\">\n",
       "  <thead>\n",
       "    <tr style=\"text-align: right;\">\n",
       "      <th></th>\n",
       "      <th>Time</th>\n",
       "      <th>Exchange</th>\n",
       "      <th>Symbol</th>\n",
       "      <th>Sale Condition</th>\n",
       "      <th>Trade Volume</th>\n",
       "      <th>Trade Price</th>\n",
       "      <th>Trade Stop Stock Indicator</th>\n",
       "      <th>Trade Correction Indicator</th>\n",
       "      <th>Sequence Number</th>\n",
       "      <th>Trade Id</th>\n",
       "      <th>Source of Trade</th>\n",
       "      <th>Trade Reporting Facility</th>\n",
       "      <th>Participant Timestamp</th>\n",
       "      <th>Trade Reporting Facility TRF Timestamp</th>\n",
       "      <th>Trade Through Exempt Indicator</th>\n",
       "    </tr>\n",
       "  </thead>\n",
       "  <tbody>\n",
       "    <tr>\n",
       "      <th>0</th>\n",
       "      <td>40000031614134</td>\n",
       "      <td>P</td>\n",
       "      <td>AMZN</td>\n",
       "      <td>@ TI</td>\n",
       "      <td>5</td>\n",
       "      <td>1732.86</td>\n",
       "      <td>NaN</td>\n",
       "      <td>0</td>\n",
       "      <td>1145</td>\n",
       "      <td>1</td>\n",
       "      <td>N</td>\n",
       "      <td></td>\n",
       "      <td>40000029500672</td>\n",
       "      <td>NaN</td>\n",
       "      <td>0</td>\n",
       "    </tr>\n",
       "    <tr>\n",
       "      <th>1</th>\n",
       "      <td>40008758072535</td>\n",
       "      <td>Q</td>\n",
       "      <td>AMZN</td>\n",
       "      <td>@FTI</td>\n",
       "      <td>10</td>\n",
       "      <td>1732.02</td>\n",
       "      <td>NaN</td>\n",
       "      <td>0</td>\n",
       "      <td>1152</td>\n",
       "      <td>1</td>\n",
       "      <td>N</td>\n",
       "      <td></td>\n",
       "      <td>40008758049797</td>\n",
       "      <td>NaN</td>\n",
       "      <td>1</td>\n",
       "    </tr>\n",
       "  </tbody>\n",
       "</table>\n",
       "</div>"
      ],
      "text/plain": [
       "             Time Exchange Symbol Sale Condition  Trade Volume  Trade Price  \\\n",
       "0  40000031614134        P   AMZN           @ TI             5      1732.86   \n",
       "1  40008758072535        Q   AMZN           @FTI            10      1732.02   \n",
       "\n",
       "   Trade Stop Stock Indicator  Trade Correction Indicator  Sequence Number  \\\n",
       "0                         NaN                           0             1145   \n",
       "1                         NaN                           0             1152   \n",
       "\n",
       "   Trade Id Source of Trade Trade Reporting Facility  Participant Timestamp  \\\n",
       "0         1               N                                  40000029500672   \n",
       "1         1               N                                  40008758049797   \n",
       "\n",
       "   Trade Reporting Facility TRF Timestamp  Trade Through Exempt Indicator  \n",
       "0                                     NaN                               0  \n",
       "1                                     NaN                               1  "
      ]
     },
     "execution_count": 5,
     "metadata": {},
     "output_type": "execute_result"
    }
   ],
   "source": [
    "AMZNdf.head(2)"
   ]
  },
  {
   "cell_type": "code",
   "execution_count": 6,
   "metadata": {},
   "outputs": [],
   "source": [
    "## Clean data i.e Delete trades outside trading hours ( given Time Period ) or for given tradeType \n",
    "timePeriod = [\"1900-01-01 09:30:00\", \"1900-01-01 16:00:00\"]\n",
    "AMZN = es.clean_data(AMZNdf, tradeType = None, timePeriod = timePeriod)\n",
    "AAPL = es.clean_data(AAPLdf, tradeType = None, timePeriod = timePeriod)\n",
    "MSFT = es.clean_data(MSFTdf, tradeType = None, timePeriod = timePeriod)"
   ]
  },
  {
   "cell_type": "markdown",
   "metadata": {},
   "source": [
    "#### Creating Minute Bars"
   ]
  },
  {
   "cell_type": "code",
   "execution_count": 7,
   "metadata": {},
   "outputs": [
    {
     "data": {
      "text/html": [
       "<div>\n",
       "<style scoped>\n",
       "    .dataframe tbody tr th:only-of-type {\n",
       "        vertical-align: middle;\n",
       "    }\n",
       "\n",
       "    .dataframe tbody tr th {\n",
       "        vertical-align: top;\n",
       "    }\n",
       "\n",
       "    .dataframe thead th {\n",
       "        text-align: right;\n",
       "    }\n",
       "</style>\n",
       "<table border=\"1\" class=\"dataframe\">\n",
       "  <thead>\n",
       "    <tr style=\"text-align: right;\">\n",
       "      <th></th>\n",
       "      <th>Exchange</th>\n",
       "      <th>Symbol</th>\n",
       "      <th>Sale Condition</th>\n",
       "      <th>Trade Volume</th>\n",
       "      <th>Trade Price</th>\n",
       "      <th>Trade Stop Stock Indicator</th>\n",
       "      <th>Trade Correction Indicator</th>\n",
       "      <th>Sequence Number</th>\n",
       "      <th>Trade Id</th>\n",
       "      <th>Source of Trade</th>\n",
       "      <th>Trade Reporting Facility</th>\n",
       "      <th>Participant Timestamp</th>\n",
       "      <th>Trade Reporting Facility TRF Timestamp</th>\n",
       "      <th>Trade Through Exempt Indicator</th>\n",
       "    </tr>\n",
       "    <tr>\n",
       "      <th>Date_Time</th>\n",
       "      <th></th>\n",
       "      <th></th>\n",
       "      <th></th>\n",
       "      <th></th>\n",
       "      <th></th>\n",
       "      <th></th>\n",
       "      <th></th>\n",
       "      <th></th>\n",
       "      <th></th>\n",
       "      <th></th>\n",
       "      <th></th>\n",
       "      <th></th>\n",
       "      <th></th>\n",
       "      <th></th>\n",
       "    </tr>\n",
       "  </thead>\n",
       "  <tbody>\n",
       "    <tr>\n",
       "      <th>1900-01-01 09:30:00.113432261</th>\n",
       "      <td>Y</td>\n",
       "      <td>AMZN</td>\n",
       "      <td>@  I</td>\n",
       "      <td>7</td>\n",
       "      <td>1721.02</td>\n",
       "      <td>NaN</td>\n",
       "      <td>0</td>\n",
       "      <td>13612</td>\n",
       "      <td>6</td>\n",
       "      <td>N</td>\n",
       "      <td></td>\n",
       "      <td>93000113220000</td>\n",
       "      <td>NaN</td>\n",
       "      <td>0</td>\n",
       "    </tr>\n",
       "    <tr>\n",
       "      <th>1900-01-01 09:30:00.165981559</th>\n",
       "      <td>Q</td>\n",
       "      <td>AMZN</td>\n",
       "      <td>@FTI</td>\n",
       "      <td>12</td>\n",
       "      <td>1722.49</td>\n",
       "      <td>NaN</td>\n",
       "      <td>0</td>\n",
       "      <td>13732</td>\n",
       "      <td>288</td>\n",
       "      <td>N</td>\n",
       "      <td></td>\n",
       "      <td>93000165953740</td>\n",
       "      <td>NaN</td>\n",
       "      <td>1</td>\n",
       "    </tr>\n",
       "    <tr>\n",
       "      <th>1900-01-01 09:30:00.318257097</th>\n",
       "      <td>Q</td>\n",
       "      <td>AMZN</td>\n",
       "      <td>@O X</td>\n",
       "      <td>23133</td>\n",
       "      <td>1722.49</td>\n",
       "      <td>NaN</td>\n",
       "      <td>0</td>\n",
       "      <td>14048</td>\n",
       "      <td>289</td>\n",
       "      <td>N</td>\n",
       "      <td></td>\n",
       "      <td>93000318235506</td>\n",
       "      <td>NaN</td>\n",
       "      <td>1</td>\n",
       "    </tr>\n",
       "    <tr>\n",
       "      <th>1900-01-01 09:30:00.318500147</th>\n",
       "      <td>Q</td>\n",
       "      <td>AMZN</td>\n",
       "      <td>@  Q</td>\n",
       "      <td>23133</td>\n",
       "      <td>1722.49</td>\n",
       "      <td>NaN</td>\n",
       "      <td>0</td>\n",
       "      <td>14049</td>\n",
       "      <td>290</td>\n",
       "      <td>N</td>\n",
       "      <td></td>\n",
       "      <td>93000318480641</td>\n",
       "      <td>NaN</td>\n",
       "      <td>0</td>\n",
       "    </tr>\n",
       "    <tr>\n",
       "      <th>1900-01-01 09:30:00.318619304</th>\n",
       "      <td>Q</td>\n",
       "      <td>AMZN</td>\n",
       "      <td>@</td>\n",
       "      <td>200</td>\n",
       "      <td>1722.49</td>\n",
       "      <td>NaN</td>\n",
       "      <td>0</td>\n",
       "      <td>14050</td>\n",
       "      <td>291</td>\n",
       "      <td>N</td>\n",
       "      <td></td>\n",
       "      <td>93000318600978</td>\n",
       "      <td>NaN</td>\n",
       "      <td>0</td>\n",
       "    </tr>\n",
       "  </tbody>\n",
       "</table>\n",
       "</div>"
      ],
      "text/plain": [
       "                              Exchange Symbol Sale Condition  Trade Volume  \\\n",
       "Date_Time                                                                    \n",
       "1900-01-01 09:30:00.113432261        Y   AMZN           @  I             7   \n",
       "1900-01-01 09:30:00.165981559        Q   AMZN           @FTI            12   \n",
       "1900-01-01 09:30:00.318257097        Q   AMZN           @O X         23133   \n",
       "1900-01-01 09:30:00.318500147        Q   AMZN           @  Q         23133   \n",
       "1900-01-01 09:30:00.318619304        Q   AMZN           @              200   \n",
       "\n",
       "                               Trade Price  Trade Stop Stock Indicator  \\\n",
       "Date_Time                                                                \n",
       "1900-01-01 09:30:00.113432261      1721.02                         NaN   \n",
       "1900-01-01 09:30:00.165981559      1722.49                         NaN   \n",
       "1900-01-01 09:30:00.318257097      1722.49                         NaN   \n",
       "1900-01-01 09:30:00.318500147      1722.49                         NaN   \n",
       "1900-01-01 09:30:00.318619304      1722.49                         NaN   \n",
       "\n",
       "                               Trade Correction Indicator  Sequence Number  \\\n",
       "Date_Time                                                                    \n",
       "1900-01-01 09:30:00.113432261                           0            13612   \n",
       "1900-01-01 09:30:00.165981559                           0            13732   \n",
       "1900-01-01 09:30:00.318257097                           0            14048   \n",
       "1900-01-01 09:30:00.318500147                           0            14049   \n",
       "1900-01-01 09:30:00.318619304                           0            14050   \n",
       "\n",
       "                               Trade Id Source of Trade  \\\n",
       "Date_Time                                                 \n",
       "1900-01-01 09:30:00.113432261         6               N   \n",
       "1900-01-01 09:30:00.165981559       288               N   \n",
       "1900-01-01 09:30:00.318257097       289               N   \n",
       "1900-01-01 09:30:00.318500147       290               N   \n",
       "1900-01-01 09:30:00.318619304       291               N   \n",
       "\n",
       "                              Trade Reporting Facility  Participant Timestamp  \\\n",
       "Date_Time                                                                       \n",
       "1900-01-01 09:30:00.113432261                                  93000113220000   \n",
       "1900-01-01 09:30:00.165981559                                  93000165953740   \n",
       "1900-01-01 09:30:00.318257097                                  93000318235506   \n",
       "1900-01-01 09:30:00.318500147                                  93000318480641   \n",
       "1900-01-01 09:30:00.318619304                                  93000318600978   \n",
       "\n",
       "                               Trade Reporting Facility TRF Timestamp  \\\n",
       "Date_Time                                                               \n",
       "1900-01-01 09:30:00.113432261                                     NaN   \n",
       "1900-01-01 09:30:00.165981559                                     NaN   \n",
       "1900-01-01 09:30:00.318257097                                     NaN   \n",
       "1900-01-01 09:30:00.318500147                                     NaN   \n",
       "1900-01-01 09:30:00.318619304                                     NaN   \n",
       "\n",
       "                               Trade Through Exempt Indicator  \n",
       "Date_Time                                                      \n",
       "1900-01-01 09:30:00.113432261                               0  \n",
       "1900-01-01 09:30:00.165981559                               1  \n",
       "1900-01-01 09:30:00.318257097                               1  \n",
       "1900-01-01 09:30:00.318500147                               0  \n",
       "1900-01-01 09:30:00.318619304                               0  "
      ]
     },
     "execution_count": 7,
     "metadata": {},
     "output_type": "execute_result"
    }
   ],
   "source": [
    "AMZN.head(5)"
   ]
  },
  {
   "cell_type": "code",
   "execution_count": 8,
   "metadata": {},
   "outputs": [],
   "source": [
    "AMmbsdf = bs.min_resampler(AMZN, units = 'T', size = 1, volume = True).reset_index()\n",
    "APmbsdf = bs.min_resampler(AAPL, units = 'T', size = 1, volume = True).reset_index()\n",
    "MSmbsdf = bs.min_resampler(MSFT, units = 'T', size = 1, volume = True).reset_index()"
   ]
  },
  {
   "cell_type": "code",
   "execution_count": 9,
   "metadata": {},
   "outputs": [],
   "source": [
    "AMmbs = AMmbsdf.rename(columns = {\"open\":\"Open\", \"high\":\"High\", \"low\":\"Low\", \"close\":\"Close\"})\n",
    "APmbs = APmbsdf.rename(columns = {\"open\":\"Open\", \"high\":\"High\", \"low\":\"Low\", \"close\":\"Close\"})\n",
    "MSmbs = MSmbsdf.rename(columns = {\"open\":\"Open\", \"high\":\"High\", \"low\":\"Low\", \"close\":\"Close\"})"
   ]
  },
  {
   "cell_type": "code",
   "execution_count": 10,
   "metadata": {},
   "outputs": [],
   "source": [
    "AMmbs = es.get_log_return(AMmbs).set_index('Date_Time')\n",
    "APmbs = es.get_log_return(APmbs).set_index('Date_Time')\n",
    "MSmbs = es.get_log_return(MSmbs).set_index('Date_Time')"
   ]
  },
  {
   "cell_type": "code",
   "execution_count": 11,
   "metadata": {},
   "outputs": [
    {
     "data": {
      "text/html": [
       "<div>\n",
       "<style scoped>\n",
       "    .dataframe tbody tr th:only-of-type {\n",
       "        vertical-align: middle;\n",
       "    }\n",
       "\n",
       "    .dataframe tbody tr th {\n",
       "        vertical-align: top;\n",
       "    }\n",
       "\n",
       "    .dataframe thead th {\n",
       "        text-align: right;\n",
       "    }\n",
       "</style>\n",
       "<table border=\"1\" class=\"dataframe\">\n",
       "  <thead>\n",
       "    <tr style=\"text-align: right;\">\n",
       "      <th></th>\n",
       "      <th>Open</th>\n",
       "      <th>High</th>\n",
       "      <th>Low</th>\n",
       "      <th>Close</th>\n",
       "      <th>Trade Volume</th>\n",
       "      <th>log returns</th>\n",
       "    </tr>\n",
       "    <tr>\n",
       "      <th>Date_Time</th>\n",
       "      <th></th>\n",
       "      <th></th>\n",
       "      <th></th>\n",
       "      <th></th>\n",
       "      <th></th>\n",
       "      <th></th>\n",
       "    </tr>\n",
       "  </thead>\n",
       "  <tbody>\n",
       "    <tr>\n",
       "      <th>1900-01-01 09:30:00</th>\n",
       "      <td>1721.0200</td>\n",
       "      <td>1722.4900</td>\n",
       "      <td>1717.71</td>\n",
       "      <td>1718.6300</td>\n",
       "      <td>67763</td>\n",
       "      <td>-0.001390</td>\n",
       "    </tr>\n",
       "    <tr>\n",
       "      <th>1900-01-01 09:31:00</th>\n",
       "      <td>1718.6000</td>\n",
       "      <td>1719.2599</td>\n",
       "      <td>1717.05</td>\n",
       "      <td>1717.9502</td>\n",
       "      <td>12760</td>\n",
       "      <td>-0.000378</td>\n",
       "    </tr>\n",
       "    <tr>\n",
       "      <th>1900-01-01 09:32:00</th>\n",
       "      <td>1717.6100</td>\n",
       "      <td>1720.0000</td>\n",
       "      <td>1717.04</td>\n",
       "      <td>1719.7100</td>\n",
       "      <td>15063</td>\n",
       "      <td>0.001222</td>\n",
       "    </tr>\n",
       "    <tr>\n",
       "      <th>1900-01-01 09:33:00</th>\n",
       "      <td>1719.5200</td>\n",
       "      <td>1722.7300</td>\n",
       "      <td>1718.31</td>\n",
       "      <td>1721.4000</td>\n",
       "      <td>14545</td>\n",
       "      <td>0.001093</td>\n",
       "    </tr>\n",
       "    <tr>\n",
       "      <th>1900-01-01 09:34:00</th>\n",
       "      <td>1721.0781</td>\n",
       "      <td>1722.2800</td>\n",
       "      <td>1719.41</td>\n",
       "      <td>1721.0400</td>\n",
       "      <td>11100</td>\n",
       "      <td>-0.000022</td>\n",
       "    </tr>\n",
       "  </tbody>\n",
       "</table>\n",
       "</div>"
      ],
      "text/plain": [
       "                          Open       High      Low      Close  Trade Volume  \\\n",
       "Date_Time                                                                     \n",
       "1900-01-01 09:30:00  1721.0200  1722.4900  1717.71  1718.6300         67763   \n",
       "1900-01-01 09:31:00  1718.6000  1719.2599  1717.05  1717.9502         12760   \n",
       "1900-01-01 09:32:00  1717.6100  1720.0000  1717.04  1719.7100         15063   \n",
       "1900-01-01 09:33:00  1719.5200  1722.7300  1718.31  1721.4000         14545   \n",
       "1900-01-01 09:34:00  1721.0781  1722.2800  1719.41  1721.0400         11100   \n",
       "\n",
       "                     log returns  \n",
       "Date_Time                         \n",
       "1900-01-01 09:30:00    -0.001390  \n",
       "1900-01-01 09:31:00    -0.000378  \n",
       "1900-01-01 09:32:00     0.001222  \n",
       "1900-01-01 09:33:00     0.001093  \n",
       "1900-01-01 09:34:00    -0.000022  "
      ]
     },
     "execution_count": 11,
     "metadata": {},
     "output_type": "execute_result"
    }
   ],
   "source": [
    "AMmbs.head()"
   ]
  },
  {
   "cell_type": "markdown",
   "metadata": {},
   "source": [
    "#### Aligning Calendar"
   ]
  },
  {
   "cell_type": "code",
   "execution_count": 12,
   "metadata": {},
   "outputs": [],
   "source": [
    "# AMmbs = AMmbs.align(APmbs, 'outer',0)[0]"
   ]
  },
  {
   "cell_type": "markdown",
   "metadata": {},
   "source": [
    "#### Create Db"
   ]
  },
  {
   "cell_type": "code",
   "execution_count": 13,
   "metadata": {},
   "outputs": [
    {
     "name": "stderr",
     "output_type": "stream",
     "text": [
      "/home/zoro/Data/AMS/AMS691_Tiano/testPackages/ExponentialSmoother/ExponentialSmoother.py:132: FutureWarning: arrays to stack must be passed as a \"sequence\" type such as list or tuple. Support for non-sequence iterables such as generators is deprecated as of NumPy 1.16 and will raise an error in the future.\n",
      "  res.append(np.vstack((np.array(db[Metric]) for db in listdb)).T)\n"
     ]
    },
    {
     "data": {
      "text/plain": [
       "[DatetimeIndex(['1900-01-01 09:30:00', '1900-01-01 09:31:00',\n",
       "                '1900-01-01 09:32:00', '1900-01-01 09:33:00',\n",
       "                '1900-01-01 09:34:00', '1900-01-01 09:35:00',\n",
       "                '1900-01-01 09:36:00', '1900-01-01 09:37:00',\n",
       "                '1900-01-01 09:38:00', '1900-01-01 09:39:00',\n",
       "                ...\n",
       "                '1900-01-01 15:50:00', '1900-01-01 15:51:00',\n",
       "                '1900-01-01 15:52:00', '1900-01-01 15:53:00',\n",
       "                '1900-01-01 15:54:00', '1900-01-01 15:55:00',\n",
       "                '1900-01-01 15:56:00', '1900-01-01 15:57:00',\n",
       "                '1900-01-01 15:58:00', '1900-01-01 15:59:00'],\n",
       "               dtype='datetime64[ns]', name='Date_Time', length=390, freq=None),\n",
       " ['AAPL', 'AMZN', 'MSFT'],\n",
       " array([[ 0.00181348, -0.00138968, -0.00277555],\n",
       "        [ 0.00013256, -0.00037817,  0.00175387],\n",
       "        [ 0.0011485 ,  0.00122188,  0.00196944],\n",
       "        ...,\n",
       "        [-0.00048984, -0.00110733, -0.00044189],\n",
       "        [ 0.00095716,  0.00029893,  0.00029459],\n",
       "        [-0.00151407, -0.00090854, -0.00110509]])]"
      ]
     },
     "execution_count": 13,
     "metadata": {},
     "output_type": "execute_result"
    }
   ],
   "source": [
    "symbol = ['AAPL', 'AMZN', 'MSFT']\n",
    "dbLogReturns = es.create_db([APmbs, AMmbs, MSmbs], symbol, 'log returns')\n",
    "dbLogReturns"
   ]
  },
  {
   "cell_type": "code",
   "execution_count": 14,
   "metadata": {},
   "outputs": [],
   "source": [
    "symbol = ['AAPL', 'AMZN', 'MSFT']\n",
    "dbTradeVolume = es.create_db([APmbs, AMmbs, MSmbs], symbol, 'Trade Volume')"
   ]
  },
  {
   "cell_type": "code",
   "execution_count": 15,
   "metadata": {},
   "outputs": [
    {
     "data": {
      "text/plain": [
       "array([[ 0.00181348,  0.00013256,  0.0011485 , ..., -0.00048984,\n",
       "         0.00095716, -0.00151407],\n",
       "       [-0.00138968, -0.00037817,  0.00122188, ..., -0.00110733,\n",
       "         0.00029893, -0.00090854],\n",
       "       [-0.00277555,  0.00175387,  0.00196944, ..., -0.00044189,\n",
       "         0.00029459, -0.00110509]])"
      ]
     },
     "execution_count": 15,
     "metadata": {},
     "output_type": "execute_result"
    }
   ],
   "source": [
    "dbLogReturns[2].transpose()"
   ]
  },
  {
   "cell_type": "markdown",
   "metadata": {},
   "source": [
    "#### Smooth till volatility is ~1"
   ]
  },
  {
   "cell_type": "code",
   "execution_count": 16,
   "metadata": {},
   "outputs": [
    {
     "data": {
      "text/plain": [
       "array([1.17764672, 0.93624919, 0.98666885])"
      ]
     },
     "execution_count": 16,
     "metadata": {},
     "output_type": "execute_result"
    }
   ],
   "source": [
    "mnVarSmoothedLogReturns = []\n",
    "for i in range(3):\n",
    "    VarSmoothed = (dbLogReturns[2].transpose()[i][1:-1])/np.sqrt(es.exponential_smoothing(dbLogReturns[2].transpose()[i][0:-2]**2,\n",
    "                                                                                         lambda_=0.0146))\n",
    "\n",
    "    mnVarSmoothedLogReturns.append(VarSmoothed)\n",
    "mnVarSmoothedLogReturnsm = np.array(mnVarSmoothedLogReturns)\n",
    "np.std(mnVarSmoothedLogReturnsm, axis = 1)"
   ]
  },
  {
   "cell_type": "code",
   "execution_count": 17,
   "metadata": {},
   "outputs": [],
   "source": [
    "dbSmoothedLogReturnsm = [dbLogReturns[0][:mnVarSmoothedLogReturnsm.shape[1]], \n",
    "                         dbLogReturns[1], mnVarSmoothedLogReturnsm.T]"
   ]
  },
  {
   "cell_type": "code",
   "execution_count": 18,
   "metadata": {},
   "outputs": [
    {
     "data": {
      "text/plain": [
       "[DatetimeIndex(['1900-01-01 09:30:00', '1900-01-01 09:31:00',\n",
       "                '1900-01-01 09:32:00', '1900-01-01 09:33:00',\n",
       "                '1900-01-01 09:34:00', '1900-01-01 09:35:00',\n",
       "                '1900-01-01 09:36:00', '1900-01-01 09:37:00',\n",
       "                '1900-01-01 09:38:00', '1900-01-01 09:39:00',\n",
       "                ...\n",
       "                '1900-01-01 15:48:00', '1900-01-01 15:49:00',\n",
       "                '1900-01-01 15:50:00', '1900-01-01 15:51:00',\n",
       "                '1900-01-01 15:52:00', '1900-01-01 15:53:00',\n",
       "                '1900-01-01 15:54:00', '1900-01-01 15:55:00',\n",
       "                '1900-01-01 15:56:00', '1900-01-01 15:57:00'],\n",
       "               dtype='datetime64[ns]', name='Date_Time', length=388, freq=None),\n",
       " ['AAPL', 'AMZN', 'MSFT'],\n",
       " array([[ 0.07309635, -0.27212805,  0.63190179],\n",
       "        [ 0.63796099,  0.88526086,  0.71269943],\n",
       "        [ 0.02462298,  0.79294318,  0.54209918],\n",
       "        ...,\n",
       "        [ 0.22154227,  0.01305575,  0.23550005],\n",
       "        [-0.49087755, -1.71525962, -0.47436903],\n",
       "        [ 0.96455642,  0.45662019,  0.31805044]])]"
      ]
     },
     "execution_count": 18,
     "metadata": {},
     "output_type": "execute_result"
    }
   ],
   "source": [
    "dbSmoothedLogReturnsm"
   ]
  },
  {
   "cell_type": "markdown",
   "metadata": {},
   "source": [
    "#### Creating Tick Bars\n",
    "\n",
    "Note here we created a new function"
   ]
  },
  {
   "cell_type": "code",
   "execution_count": 19,
   "metadata": {},
   "outputs": [],
   "source": [
    "AMtbs =  es.tick_resampler_aligned(AMZN, 500, volume = True).reset_index()\n",
    "APtbs =  es.tick_resampler_aligned(AAPL, 500, volume = True).reset_index()\n",
    "MStbs =  es.tick_resampler_aligned(MSFT, 500, volume = True).reset_index()\n",
    "\n",
    "AMtbs = es.get_log_return(AMtbs)\n",
    "APtbs = es.get_log_return(APtbs)\n",
    "MStbs = es.get_log_return(MStbs)"
   ]
  },
  {
   "cell_type": "markdown",
   "metadata": {},
   "source": [
    "#### Create Db"
   ]
  },
  {
   "cell_type": "code",
   "execution_count": 20,
   "metadata": {},
   "outputs": [],
   "source": [
    "symbol = ['AAPL', 'AMZN', 'MSFT']\n",
    "dbLogReturns = es.create_db([ APtbs, AMtbs, MStbs], symbol, 'log returns')"
   ]
  },
  {
   "cell_type": "code",
   "execution_count": 21,
   "metadata": {},
   "outputs": [
    {
     "data": {
      "text/plain": [
       "[RangeIndex(start=0, stop=500, step=1),\n",
       " ['AAPL', 'AMZN', 'MSFT'],\n",
       " array([[ 3.09851053e-04,  5.69267693e-04,  2.91715288e-04],\n",
       "        [ 2.35865078e-04, -9.18177656e-04, -6.56479107e-04],\n",
       "        [ 1.31195170e-03, -2.96552147e-04, -2.04513986e-03],\n",
       "        ...,\n",
       "        [-8.90194508e-05,  2.93216438e-05,  3.68344476e-05],\n",
       "        [-3.56157069e-04, -5.86441473e-05,  0.00000000e+00],\n",
       "        [-8.01853215e-04,  1.23156682e-04, -5.89535758e-04]])]"
      ]
     },
     "execution_count": 21,
     "metadata": {},
     "output_type": "execute_result"
    }
   ],
   "source": [
    "dbLogReturns"
   ]
  },
  {
   "cell_type": "markdown",
   "metadata": {},
   "source": [
    "#### Smooth till the volatility ~ 1"
   ]
  },
  {
   "cell_type": "code",
   "execution_count": 22,
   "metadata": {},
   "outputs": [
    {
     "data": {
      "text/plain": [
       "array([1.06325449, 1.01856076, 1.05351586])"
      ]
     },
     "execution_count": 22,
     "metadata": {},
     "output_type": "execute_result"
    }
   ],
   "source": [
    "mnVarSmoothedLogReturns = []\n",
    "for i in range(3):\n",
    "    VarSmoothed = (dbLogReturns[2].transpose()[i][1:-1])/np.sqrt(es.exponential_smoothing(dbLogReturns[2].transpose()[i][0:-2]**2,\n",
    "                                                                                         lambda_=0.085))\n",
    "    mnVarSmoothedLogReturns.append(VarSmoothed)\n",
    "mnVarSmoothedLogReturnst = np.array(mnVarSmoothedLogReturns)\n",
    "np.std(mnVarSmoothedLogReturnst, axis = 1)"
   ]
  },
  {
   "cell_type": "code",
   "execution_count": 23,
   "metadata": {},
   "outputs": [],
   "source": [
    "dbSmoothedLogReturnst = [dbLogReturns[0][:mnVarSmoothedLogReturnst.shape[1]], dbLogReturns[1],\n",
    "                        mnVarSmoothedLogReturnst.T]"
   ]
  },
  {
   "cell_type": "code",
   "execution_count": 24,
   "metadata": {},
   "outputs": [
    {
     "data": {
      "text/plain": [
       "[RangeIndex(start=0, stop=498, step=1),\n",
       " ['AAPL', 'AMZN', 'MSFT'],\n",
       " array([[ 0.76122084, -1.61291018, -2.25041036],\n",
       "        [ 4.31190495, -0.48873263, -6.04403398],\n",
       "        [-0.94350804, -0.93182845,  1.8318802 ],\n",
       "        ...,\n",
       "        [-0.25586457, -1.64416978, -0.70969586],\n",
       "        [-0.1778034 ,  0.09605904,  0.12087067],\n",
       "        [-0.74259049, -0.20076037,  0.        ]])]"
      ]
     },
     "execution_count": 24,
     "metadata": {},
     "output_type": "execute_result"
    }
   ],
   "source": [
    "dbSmoothedLogReturnst"
   ]
  },
  {
   "cell_type": "code",
   "execution_count": null,
   "metadata": {},
   "outputs": [],
   "source": []
  }
 ],
 "metadata": {
  "kernelspec": {
   "display_name": "Python 3",
   "language": "python",
   "name": "python3"
  },
  "language_info": {
   "codemirror_mode": {
    "name": "ipython",
    "version": 3
   },
   "file_extension": ".py",
   "mimetype": "text/x-python",
   "name": "python",
   "nbconvert_exporter": "python",
   "pygments_lexer": "ipython3",
   "version": "3.8.6"
  }
 },
 "nbformat": 4,
 "nbformat_minor": 4
}
